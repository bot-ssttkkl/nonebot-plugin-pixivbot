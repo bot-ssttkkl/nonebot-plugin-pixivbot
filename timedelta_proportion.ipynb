{
 "cells": [
  {
   "cell_type": "code",
   "execution_count": 111,
   "outputs": [
    {
     "data": {
      "text/plain": "{'access_token': '7jt67yA2CotNmRbofCdY3Sbt9l1jcqYkhXVbXB14oBI',\n 'expires_in': 3600,\n 'token_type': 'bearer',\n 'scope': '',\n 'refresh_token': 'sLxgrt5L4NP7mKsg5snGjjxJmX4tvD7pRdHhOcsZ-GA',\n 'user': {'profile_image_urls': {'px_16x16': 'https://s.pximg.net/common/images/no_profile_ss.png',\n   'px_50x50': 'https://s.pximg.net/common/images/no_profile_s.png',\n   'px_170x170': 'https://s.pximg.net/common/images/no_profile.png'},\n  'id': '64071918',\n  'name': 'hwl',\n  'account': 'user_kmky2887',\n  'mail_address': 'ssttkkl@qq.com',\n  'is_premium': False,\n  'x_restrict': 0,\n  'is_mail_authorized': True},\n 'response': {'access_token': '7jt67yA2CotNmRbofCdY3Sbt9l1jcqYkhXVbXB14oBI',\n  'expires_in': 3600,\n  'token_type': 'bearer',\n  'scope': '',\n  'refresh_token': 'sLxgrt5L4NP7mKsg5snGjjxJmX4tvD7pRdHhOcsZ-GA',\n  'user': {'profile_image_urls': {'px_16x16': 'https://s.pximg.net/common/images/no_profile_ss.png',\n    'px_50x50': 'https://s.pximg.net/common/images/no_profile_s.png',\n    'px_170x170': 'https://s.pximg.net/common/images/no_profile.png'},\n   'id': '64071918',\n   'name': 'hwl',\n   'account': 'user_kmky2887',\n   'mail_address': 'ssttkkl@qq.com',\n   'is_premium': False,\n   'x_restrict': 0,\n   'is_mail_authorized': True}}}"
     },
     "execution_count": 111,
     "metadata": {},
     "output_type": "execute_result"
    }
   ],
   "source": [
    "from pixivpy3 import AppPixivAPI\n",
    "\n",
    "REFRESH_TOKEN = \"\"\n",
    "\n",
    "aapi = AppPixivAPI()\n",
    "aapi.auth(refresh_token=REFRESH_TOKEN)"
   ],
   "metadata": {
    "collapsed": false,
    "pycharm": {
     "name": "#%%\n"
    }
   }
  },
  {
   "cell_type": "code",
   "execution_count": 112,
   "outputs": [],
   "source": [
    "user = aapi.search_user(\"秽浊猫\").user_previews[0].user\n",
    "\n",
    "illusts = []\n",
    "kwargs = dict(user_id=user.id)\n",
    "\n",
    "while True:\n",
    "    user_illusts = aapi.user_illusts(**kwargs)\n",
    "    illusts.extend(user_illusts.illusts)\n",
    "\n",
    "    kwargs = aapi.parse_qs(user_illusts.next_url)\n",
    "    if not kwargs:\n",
    "        break"
   ],
   "metadata": {
    "collapsed": false,
    "pycharm": {
     "name": "#%%\n"
    }
   }
  },
  {
   "cell_type": "code",
   "execution_count": 113,
   "outputs": [],
   "source": [
    "from datetime import datetime\n",
    "from time import time\n",
    "\n",
    "import numpy as np\n",
    "\n",
    "x = np.zeros(len(illusts))\n",
    "\n",
    "now = time()\n",
    "for i, illust in enumerate(illusts):\n",
    "    x[i] = datetime.fromisoformat(illust.create_date).timestamp() - now"
   ],
   "metadata": {
    "collapsed": false,
    "pycharm": {
     "name": "#%%\n"
    }
   }
  },
  {
   "cell_type": "code",
   "execution_count": 114,
   "outputs": [],
   "source": [
    "# 概率正比于 exp(归一化后的画像发布时间差)\n",
    "p = x\n",
    "\n",
    "min_p = np.min(p)\n",
    "\n",
    "if min_p == 0:\n",
    "    p = np.ones(len(illusts))\n",
    "else:\n",
    "    p = p / -min_p  # 归一化\n",
    "    p = np.exp(p)\n",
    "    p = p / np.sum(p)"
   ],
   "metadata": {
    "collapsed": false,
    "pycharm": {
     "name": "#%%\n"
    }
   }
  },
  {
   "cell_type": "code",
   "execution_count": 115,
   "outputs": [
    {
     "data": {
      "text/plain": "Text(0, 0.5, 'p')"
     },
     "execution_count": 115,
     "metadata": {},
     "output_type": "execute_result"
    },
    {
     "data": {
      "text/plain": "<Figure size 432x288 with 1 Axes>",
      "image/png": "[encoded data removed]"
     },
     "metadata": {
      "needs_background": "light"
     },
     "output_type": "display_data"
    }
   ],
   "source": [
    "import matplotlib.pyplot as plt\n",
    "\n",
    "x = x / (86400 * 365)  # 单位：年\n",
    "\n",
    "plt.scatter(x, p)\n",
    "\n",
    "plt.xlabel(\"delta time (unit: years)\")\n",
    "plt.ylabel(\"p\")"
   ],
   "metadata": {
    "collapsed": false,
    "pycharm": {
     "name": "#%%\n"
    }
   }
  },
  {
   "cell_type": "code",
   "execution_count": 115,
   "outputs": [],
   "source": [],
   "metadata": {
    "collapsed": false,
    "pycharm": {
     "name": "#%%\n"
    }
   }
  }
 ],
 "metadata": {
  "kernelspec": {
   "display_name": "Python 3",
   "language": "python",
   "name": "python3"
  },
  "language_info": {
   "codemirror_mode": {
    "name": "ipython",
    "version": 2
   },
   "file_extension": ".py",
   "mimetype": "text/x-python",
   "name": "python",
   "nbconvert_exporter": "python",
   "pygments_lexer": "ipython2",
   "version": "2.7.6"
  }
 },
 "nbformat": 4,
 "nbformat_minor": 0
}